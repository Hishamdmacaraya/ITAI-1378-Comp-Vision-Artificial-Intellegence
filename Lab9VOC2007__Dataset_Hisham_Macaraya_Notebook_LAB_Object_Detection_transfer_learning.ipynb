{
  "cells": [
    {
      "cell_type": "markdown",
      "id": "2414edc0",
      "metadata": {
        "id": "2414edc0"
      },
      "source": [
        "\n",
        "# Object Detection using TensorFlow and Pascal VOC 2007 Dataset\n",
        "\n",
        "In this exercise, we will adapt our image classification task to an object detection task. Object detection involves not only classifying objects within an image but also localizing them with bounding boxes.\n",
        "\n",
        "Note: Due to the limited computational resources available, we'll be using a smaller subset of the Pascal VOC 2007 dataset and a lightweight object detection model. This might result in lower accuracy, but the focus of this exercise is on understanding the concepts and workflow of object detection.\n",
        "\n",
        "## Steps:\n",
        "1. Install (if necessary) and Import the libraries you will need for this project\n",
        "2. Load the Pascal VOC 2007 dataset\n",
        "3. Use a pre-trained object detection model (SSD MobileNet V2)\n",
        "4. Display detected objects with bounding boxes\n",
        "    "
      ]
    },
    {
      "cell_type": "code",
      "execution_count": 1,
      "id": "29112b7e",
      "metadata": {
        "id": "29112b7e"
      },
      "outputs": [
        {
          "name": "stdout",
          "output_type": "stream",
          "text": [
            "Requirement already satisfied: tensorflow in c:\\users\\hisha\\appdata\\local\\packages\\pythonsoftwarefoundation.python.3.11_qbz5n2kfra8p0\\localcache\\local-packages\\python311\\site-packages (2.18.0)\n",
            "Requirement already satisfied: tensorflow-hub in c:\\users\\hisha\\appdata\\local\\packages\\pythonsoftwarefoundation.python.3.11_qbz5n2kfra8p0\\localcache\\local-packages\\python311\\site-packages (0.16.1)\n",
            "Requirement already satisfied: tensorflow-datasets in c:\\users\\hisha\\appdata\\local\\packages\\pythonsoftwarefoundation.python.3.11_qbz5n2kfra8p0\\localcache\\local-packages\\python311\\site-packages (4.9.7)\n",
            "Requirement already satisfied: matplotlib in c:\\users\\hisha\\appdata\\local\\packages\\pythonsoftwarefoundation.python.3.11_qbz5n2kfra8p0\\localcache\\local-packages\\python311\\site-packages (3.9.2)\n",
            "Requirement already satisfied: tensorflow-intel==2.18.0 in c:\\users\\hisha\\appdata\\local\\packages\\pythonsoftwarefoundation.python.3.11_qbz5n2kfra8p0\\localcache\\local-packages\\python311\\site-packages (from tensorflow) (2.18.0)\n",
            "Requirement already satisfied: absl-py>=1.0.0 in c:\\users\\hisha\\appdata\\local\\packages\\pythonsoftwarefoundation.python.3.11_qbz5n2kfra8p0\\localcache\\local-packages\\python311\\site-packages (from tensorflow-intel==2.18.0->tensorflow) (2.1.0)\n",
            "Requirement already satisfied: astunparse>=1.6.0 in c:\\users\\hisha\\appdata\\local\\packages\\pythonsoftwarefoundation.python.3.11_qbz5n2kfra8p0\\localcache\\local-packages\\python311\\site-packages (from tensorflow-intel==2.18.0->tensorflow) (1.6.3)\n",
            "Requirement already satisfied: flatbuffers>=24.3.25 in c:\\users\\hisha\\appdata\\local\\packages\\pythonsoftwarefoundation.python.3.11_qbz5n2kfra8p0\\localcache\\local-packages\\python311\\site-packages (from tensorflow-intel==2.18.0->tensorflow) (24.3.25)\n",
            "Requirement already satisfied: gast!=0.5.0,!=0.5.1,!=0.5.2,>=0.2.1 in c:\\users\\hisha\\appdata\\local\\packages\\pythonsoftwarefoundation.python.3.11_qbz5n2kfra8p0\\localcache\\local-packages\\python311\\site-packages (from tensorflow-intel==2.18.0->tensorflow) (0.6.0)\n",
            "Requirement already satisfied: google-pasta>=0.1.1 in c:\\users\\hisha\\appdata\\local\\packages\\pythonsoftwarefoundation.python.3.11_qbz5n2kfra8p0\\localcache\\local-packages\\python311\\site-packages (from tensorflow-intel==2.18.0->tensorflow) (0.2.0)\n",
            "Requirement already satisfied: libclang>=13.0.0 in c:\\users\\hisha\\appdata\\local\\packages\\pythonsoftwarefoundation.python.3.11_qbz5n2kfra8p0\\localcache\\local-packages\\python311\\site-packages (from tensorflow-intel==2.18.0->tensorflow) (18.1.1)\n",
            "Requirement already satisfied: opt-einsum>=2.3.2 in c:\\users\\hisha\\appdata\\local\\packages\\pythonsoftwarefoundation.python.3.11_qbz5n2kfra8p0\\localcache\\local-packages\\python311\\site-packages (from tensorflow-intel==2.18.0->tensorflow) (3.3.0)\n",
            "Requirement already satisfied: packaging in c:\\users\\hisha\\appdata\\local\\packages\\pythonsoftwarefoundation.python.3.11_qbz5n2kfra8p0\\localcache\\local-packages\\python311\\site-packages (from tensorflow-intel==2.18.0->tensorflow) (24.1)\n",
            "Requirement already satisfied: protobuf!=4.21.0,!=4.21.1,!=4.21.2,!=4.21.3,!=4.21.4,!=4.21.5,<6.0.0dev,>=3.20.3 in c:\\users\\hisha\\appdata\\local\\packages\\pythonsoftwarefoundation.python.3.11_qbz5n2kfra8p0\\localcache\\local-packages\\python311\\site-packages (from tensorflow-intel==2.18.0->tensorflow) (4.25.5)\n",
            "Requirement already satisfied: requests<3,>=2.21.0 in c:\\users\\hisha\\appdata\\local\\packages\\pythonsoftwarefoundation.python.3.11_qbz5n2kfra8p0\\localcache\\local-packages\\python311\\site-packages (from tensorflow-intel==2.18.0->tensorflow) (2.32.3)\n",
            "Requirement already satisfied: setuptools in c:\\program files\\windowsapps\\pythonsoftwarefoundation.python.3.11_3.11.2544.0_x64__qbz5n2kfra8p0\\lib\\site-packages (from tensorflow-intel==2.18.0->tensorflow) (65.5.0)\n",
            "Requirement already satisfied: six>=1.12.0 in c:\\users\\hisha\\appdata\\local\\packages\\pythonsoftwarefoundation.python.3.11_qbz5n2kfra8p0\\localcache\\local-packages\\python311\\site-packages (from tensorflow-intel==2.18.0->tensorflow) (1.16.0)\n",
            "Requirement already satisfied: termcolor>=1.1.0 in c:\\users\\hisha\\appdata\\local\\packages\\pythonsoftwarefoundation.python.3.11_qbz5n2kfra8p0\\localcache\\local-packages\\python311\\site-packages (from tensorflow-intel==2.18.0->tensorflow) (2.4.0)\n",
            "Requirement already satisfied: typing-extensions>=3.6.6 in c:\\users\\hisha\\appdata\\local\\packages\\pythonsoftwarefoundation.python.3.11_qbz5n2kfra8p0\\localcache\\local-packages\\python311\\site-packages (from tensorflow-intel==2.18.0->tensorflow) (4.12.2)\n",
            "Requirement already satisfied: wrapt>=1.11.0 in c:\\users\\hisha\\appdata\\local\\packages\\pythonsoftwarefoundation.python.3.11_qbz5n2kfra8p0\\localcache\\local-packages\\python311\\site-packages (from tensorflow-intel==2.18.0->tensorflow) (1.16.0)\n",
            "Requirement already satisfied: grpcio<2.0,>=1.24.3 in c:\\users\\hisha\\appdata\\local\\packages\\pythonsoftwarefoundation.python.3.11_qbz5n2kfra8p0\\localcache\\local-packages\\python311\\site-packages (from tensorflow-intel==2.18.0->tensorflow) (1.66.1)\n",
            "Requirement already satisfied: tensorboard<2.19,>=2.18 in c:\\users\\hisha\\appdata\\local\\packages\\pythonsoftwarefoundation.python.3.11_qbz5n2kfra8p0\\localcache\\local-packages\\python311\\site-packages (from tensorflow-intel==2.18.0->tensorflow) (2.18.0)\n",
            "Requirement already satisfied: keras>=3.5.0 in c:\\users\\hisha\\appdata\\local\\packages\\pythonsoftwarefoundation.python.3.11_qbz5n2kfra8p0\\localcache\\local-packages\\python311\\site-packages (from tensorflow-intel==2.18.0->tensorflow) (3.5.0)\n",
            "Requirement already satisfied: numpy<2.1.0,>=1.26.0 in c:\\users\\hisha\\appdata\\local\\packages\\pythonsoftwarefoundation.python.3.11_qbz5n2kfra8p0\\localcache\\local-packages\\python311\\site-packages (from tensorflow-intel==2.18.0->tensorflow) (1.26.4)\n",
            "Requirement already satisfied: h5py>=3.11.0 in c:\\users\\hisha\\appdata\\local\\packages\\pythonsoftwarefoundation.python.3.11_qbz5n2kfra8p0\\localcache\\local-packages\\python311\\site-packages (from tensorflow-intel==2.18.0->tensorflow) (3.11.0)\n",
            "Requirement already satisfied: ml-dtypes<0.5.0,>=0.4.0 in c:\\users\\hisha\\appdata\\local\\packages\\pythonsoftwarefoundation.python.3.11_qbz5n2kfra8p0\\localcache\\local-packages\\python311\\site-packages (from tensorflow-intel==2.18.0->tensorflow) (0.4.1)\n",
            "Requirement already satisfied: tensorflow-io-gcs-filesystem>=0.23.1 in c:\\users\\hisha\\appdata\\local\\packages\\pythonsoftwarefoundation.python.3.11_qbz5n2kfra8p0\\localcache\\local-packages\\python311\\site-packages (from tensorflow-intel==2.18.0->tensorflow) (0.31.0)\n",
            "Requirement already satisfied: tf-keras>=2.14.1 in c:\\users\\hisha\\appdata\\local\\packages\\pythonsoftwarefoundation.python.3.11_qbz5n2kfra8p0\\localcache\\local-packages\\python311\\site-packages (from tensorflow-hub) (2.18.0)\n",
            "Requirement already satisfied: click in c:\\users\\hisha\\appdata\\local\\packages\\pythonsoftwarefoundation.python.3.11_qbz5n2kfra8p0\\localcache\\local-packages\\python311\\site-packages (from tensorflow-datasets) (8.1.7)\n",
            "Requirement already satisfied: dm-tree in c:\\users\\hisha\\appdata\\local\\packages\\pythonsoftwarefoundation.python.3.11_qbz5n2kfra8p0\\localcache\\local-packages\\python311\\site-packages (from tensorflow-datasets) (0.1.8)\n",
            "Requirement already satisfied: immutabledict in c:\\users\\hisha\\appdata\\local\\packages\\pythonsoftwarefoundation.python.3.11_qbz5n2kfra8p0\\localcache\\local-packages\\python311\\site-packages (from tensorflow-datasets) (4.2.0)\n",
            "Requirement already satisfied: promise in c:\\users\\hisha\\appdata\\local\\packages\\pythonsoftwarefoundation.python.3.11_qbz5n2kfra8p0\\localcache\\local-packages\\python311\\site-packages (from tensorflow-datasets) (2.3)\n",
            "Requirement already satisfied: psutil in c:\\users\\hisha\\appdata\\local\\packages\\pythonsoftwarefoundation.python.3.11_qbz5n2kfra8p0\\localcache\\local-packages\\python311\\site-packages (from tensorflow-datasets) (6.0.0)\n",
            "Requirement already satisfied: pyarrow in c:\\users\\hisha\\appdata\\local\\packages\\pythonsoftwarefoundation.python.3.11_qbz5n2kfra8p0\\localcache\\local-packages\\python311\\site-packages (from tensorflow-datasets) (17.0.0)\n",
            "Requirement already satisfied: simple-parsing in c:\\users\\hisha\\appdata\\local\\packages\\pythonsoftwarefoundation.python.3.11_qbz5n2kfra8p0\\localcache\\local-packages\\python311\\site-packages (from tensorflow-datasets) (0.1.6)\n",
            "Requirement already satisfied: tensorflow-metadata in c:\\users\\hisha\\appdata\\local\\packages\\pythonsoftwarefoundation.python.3.11_qbz5n2kfra8p0\\localcache\\local-packages\\python311\\site-packages (from tensorflow-datasets) (1.16.1)\n",
            "Requirement already satisfied: toml in c:\\users\\hisha\\appdata\\local\\packages\\pythonsoftwarefoundation.python.3.11_qbz5n2kfra8p0\\localcache\\local-packages\\python311\\site-packages (from tensorflow-datasets) (0.10.2)\n",
            "Requirement already satisfied: tqdm in c:\\users\\hisha\\appdata\\local\\packages\\pythonsoftwarefoundation.python.3.11_qbz5n2kfra8p0\\localcache\\local-packages\\python311\\site-packages (from tensorflow-datasets) (4.66.5)\n",
            "Requirement already satisfied: etils>=1.9.1 in c:\\users\\hisha\\appdata\\local\\packages\\pythonsoftwarefoundation.python.3.11_qbz5n2kfra8p0\\localcache\\local-packages\\python311\\site-packages (from etils[edc,enp,epath,epy,etree]>=1.9.1; python_version >= \"3.11\"->tensorflow-datasets) (1.10.0)\n",
            "Requirement already satisfied: contourpy>=1.0.1 in c:\\users\\hisha\\appdata\\local\\packages\\pythonsoftwarefoundation.python.3.11_qbz5n2kfra8p0\\localcache\\local-packages\\python311\\site-packages (from matplotlib) (1.3.0)\n",
            "Requirement already satisfied: cycler>=0.10 in c:\\users\\hisha\\appdata\\local\\packages\\pythonsoftwarefoundation.python.3.11_qbz5n2kfra8p0\\localcache\\local-packages\\python311\\site-packages (from matplotlib) (0.12.1)\n",
            "Requirement already satisfied: fonttools>=4.22.0 in c:\\users\\hisha\\appdata\\local\\packages\\pythonsoftwarefoundation.python.3.11_qbz5n2kfra8p0\\localcache\\local-packages\\python311\\site-packages (from matplotlib) (4.53.1)\n",
            "Requirement already satisfied: kiwisolver>=1.3.1 in c:\\users\\hisha\\appdata\\local\\packages\\pythonsoftwarefoundation.python.3.11_qbz5n2kfra8p0\\localcache\\local-packages\\python311\\site-packages (from matplotlib) (1.4.7)\n",
            "Requirement already satisfied: pillow>=8 in c:\\users\\hisha\\appdata\\local\\packages\\pythonsoftwarefoundation.python.3.11_qbz5n2kfra8p0\\localcache\\local-packages\\python311\\site-packages (from matplotlib) (10.4.0)\n",
            "Requirement already satisfied: pyparsing>=2.3.1 in c:\\users\\hisha\\appdata\\local\\packages\\pythonsoftwarefoundation.python.3.11_qbz5n2kfra8p0\\localcache\\local-packages\\python311\\site-packages (from matplotlib) (3.1.4)\n",
            "Requirement already satisfied: python-dateutil>=2.7 in c:\\users\\hisha\\appdata\\local\\packages\\pythonsoftwarefoundation.python.3.11_qbz5n2kfra8p0\\localcache\\local-packages\\python311\\site-packages (from matplotlib) (2.9.0.post0)\n",
            "Requirement already satisfied: fsspec in c:\\users\\hisha\\appdata\\local\\packages\\pythonsoftwarefoundation.python.3.11_qbz5n2kfra8p0\\localcache\\local-packages\\python311\\site-packages (from etils[edc,enp,epath,epy,etree]>=1.9.1; python_version >= \"3.11\"->tensorflow-datasets) (2024.6.1)\n",
            "Requirement already satisfied: importlib_resources in c:\\users\\hisha\\appdata\\local\\packages\\pythonsoftwarefoundation.python.3.11_qbz5n2kfra8p0\\localcache\\local-packages\\python311\\site-packages (from etils[edc,enp,epath,epy,etree]>=1.9.1; python_version >= \"3.11\"->tensorflow-datasets) (6.4.5)\n",
            "Requirement already satisfied: zipp in c:\\users\\hisha\\appdata\\local\\packages\\pythonsoftwarefoundation.python.3.11_qbz5n2kfra8p0\\localcache\\local-packages\\python311\\site-packages (from etils[edc,enp,epath,epy,etree]>=1.9.1; python_version >= \"3.11\"->tensorflow-datasets) (3.20.2)\n",
            "Requirement already satisfied: charset-normalizer<4,>=2 in c:\\users\\hisha\\appdata\\local\\packages\\pythonsoftwarefoundation.python.3.11_qbz5n2kfra8p0\\localcache\\local-packages\\python311\\site-packages (from requests<3,>=2.21.0->tensorflow-intel==2.18.0->tensorflow) (3.3.2)\n",
            "Requirement already satisfied: idna<4,>=2.5 in c:\\users\\hisha\\appdata\\local\\packages\\pythonsoftwarefoundation.python.3.11_qbz5n2kfra8p0\\localcache\\local-packages\\python311\\site-packages (from requests<3,>=2.21.0->tensorflow-intel==2.18.0->tensorflow) (3.8)\n",
            "Requirement already satisfied: urllib3<3,>=1.21.1 in c:\\users\\hisha\\appdata\\local\\packages\\pythonsoftwarefoundation.python.3.11_qbz5n2kfra8p0\\localcache\\local-packages\\python311\\site-packages (from requests<3,>=2.21.0->tensorflow-intel==2.18.0->tensorflow) (2.2.2)\n",
            "Requirement already satisfied: certifi>=2017.4.17 in c:\\users\\hisha\\appdata\\local\\packages\\pythonsoftwarefoundation.python.3.11_qbz5n2kfra8p0\\localcache\\local-packages\\python311\\site-packages (from requests<3,>=2.21.0->tensorflow-intel==2.18.0->tensorflow) (2024.7.4)\n",
            "Requirement already satisfied: colorama in c:\\users\\hisha\\appdata\\local\\packages\\pythonsoftwarefoundation.python.3.11_qbz5n2kfra8p0\\localcache\\local-packages\\python311\\site-packages (from click->tensorflow-datasets) (0.4.6)\n",
            "Requirement already satisfied: docstring-parser<1.0,>=0.15 in c:\\users\\hisha\\appdata\\local\\packages\\pythonsoftwarefoundation.python.3.11_qbz5n2kfra8p0\\localcache\\local-packages\\python311\\site-packages (from simple-parsing->tensorflow-datasets) (0.16)\n",
            "Requirement already satisfied: googleapis-common-protos<2,>=1.56.4 in c:\\users\\hisha\\appdata\\local\\packages\\pythonsoftwarefoundation.python.3.11_qbz5n2kfra8p0\\localcache\\local-packages\\python311\\site-packages (from tensorflow-metadata->tensorflow-datasets) (1.65.0)\n",
            "Requirement already satisfied: wheel<1.0,>=0.23.0 in c:\\users\\hisha\\appdata\\local\\packages\\pythonsoftwarefoundation.python.3.11_qbz5n2kfra8p0\\localcache\\local-packages\\python311\\site-packages (from astunparse>=1.6.0->tensorflow-intel==2.18.0->tensorflow) (0.44.0)\n",
            "Requirement already satisfied: rich in c:\\users\\hisha\\appdata\\local\\packages\\pythonsoftwarefoundation.python.3.11_qbz5n2kfra8p0\\localcache\\local-packages\\python311\\site-packages (from keras>=3.5.0->tensorflow-intel==2.18.0->tensorflow) (13.8.1)\n",
            "Requirement already satisfied: namex in c:\\users\\hisha\\appdata\\local\\packages\\pythonsoftwarefoundation.python.3.11_qbz5n2kfra8p0\\localcache\\local-packages\\python311\\site-packages (from keras>=3.5.0->tensorflow-intel==2.18.0->tensorflow) (0.0.8)\n",
            "Requirement already satisfied: optree in c:\\users\\hisha\\appdata\\local\\packages\\pythonsoftwarefoundation.python.3.11_qbz5n2kfra8p0\\localcache\\local-packages\\python311\\site-packages (from keras>=3.5.0->tensorflow-intel==2.18.0->tensorflow) (0.12.1)\n",
            "Requirement already satisfied: markdown>=2.6.8 in c:\\users\\hisha\\appdata\\local\\packages\\pythonsoftwarefoundation.python.3.11_qbz5n2kfra8p0\\localcache\\local-packages\\python311\\site-packages (from tensorboard<2.19,>=2.18->tensorflow-intel==2.18.0->tensorflow) (3.7)\n",
            "Requirement already satisfied: tensorboard-data-server<0.8.0,>=0.7.0 in c:\\users\\hisha\\appdata\\local\\packages\\pythonsoftwarefoundation.python.3.11_qbz5n2kfra8p0\\localcache\\local-packages\\python311\\site-packages (from tensorboard<2.19,>=2.18->tensorflow-intel==2.18.0->tensorflow) (0.7.2)\n",
            "Requirement already satisfied: werkzeug>=1.0.1 in c:\\users\\hisha\\appdata\\local\\packages\\pythonsoftwarefoundation.python.3.11_qbz5n2kfra8p0\\localcache\\local-packages\\python311\\site-packages (from tensorboard<2.19,>=2.18->tensorflow-intel==2.18.0->tensorflow) (3.0.4)\n",
            "Requirement already satisfied: MarkupSafe>=2.1.1 in c:\\users\\hisha\\appdata\\local\\packages\\pythonsoftwarefoundation.python.3.11_qbz5n2kfra8p0\\localcache\\local-packages\\python311\\site-packages (from werkzeug>=1.0.1->tensorboard<2.19,>=2.18->tensorflow-intel==2.18.0->tensorflow) (2.1.5)\n",
            "Requirement already satisfied: markdown-it-py>=2.2.0 in c:\\users\\hisha\\appdata\\local\\packages\\pythonsoftwarefoundation.python.3.11_qbz5n2kfra8p0\\localcache\\local-packages\\python311\\site-packages (from rich->keras>=3.5.0->tensorflow-intel==2.18.0->tensorflow) (3.0.0)\n",
            "Requirement already satisfied: pygments<3.0.0,>=2.13.0 in c:\\users\\hisha\\appdata\\local\\packages\\pythonsoftwarefoundation.python.3.11_qbz5n2kfra8p0\\localcache\\local-packages\\python311\\site-packages (from rich->keras>=3.5.0->tensorflow-intel==2.18.0->tensorflow) (2.18.0)\n",
            "Requirement already satisfied: mdurl~=0.1 in c:\\users\\hisha\\appdata\\local\\packages\\pythonsoftwarefoundation.python.3.11_qbz5n2kfra8p0\\localcache\\local-packages\\python311\\site-packages (from markdown-it-py>=2.2.0->rich->keras>=3.5.0->tensorflow-intel==2.18.0->tensorflow) (0.1.2)\n",
            "Note: you may need to restart the kernel to use updated packages.\n"
          ]
        },
        {
          "name": "stderr",
          "output_type": "stream",
          "text": [
            "\n",
            "[notice] A new release of pip is available: 24.2 -> 24.3.1\n",
            "[notice] To update, run: C:\\Users\\hisha\\AppData\\Local\\Microsoft\\WindowsApps\\PythonSoftwareFoundation.Python.3.11_qbz5n2kfra8p0\\python.exe -m pip install --upgrade pip\n"
          ]
        }
      ],
      "source": [
        "%pip install tensorflow tensorflow-hub tensorflow-datasets matplotlib\n"
      ]
    },
    {
      "cell_type": "code",
      "execution_count": 2,
      "id": "99553a86",
      "metadata": {
        "id": "99553a86"
      },
      "outputs": [
        {
          "name": "stdout",
          "output_type": "stream",
          "text": [
            "WARNING:tensorflow:From C:\\Users\\hisha\\AppData\\Local\\Packages\\PythonSoftwareFoundation.Python.3.11_qbz5n2kfra8p0\\LocalCache\\local-packages\\Python311\\site-packages\\tf_keras\\src\\losses.py:2976: The name tf.losses.sparse_softmax_cross_entropy is deprecated. Please use tf.compat.v1.losses.sparse_softmax_cross_entropy instead.\n",
            "\n",
            "TensorFlow version: 2.18.0\n",
            "TensorFlow Hub version: 0.16.1\n"
          ]
        }
      ],
      "source": [
        "# Import necessary libraries\n",
        "import tensorflow as tf\n",
        "import tensorflow_hub as hub\n",
        "import tensorflow_datasets as tfds\n",
        "import numpy as np\n",
        "import matplotlib.pyplot as plt\n",
        "import matplotlib.patches as patches\n",
        "import cv2\n",
        "from PIL import Image\n",
        "import requests\n",
        "from io import BytesIO\n",
        "\n",
        "print(\"TensorFlow version:\", tf.__version__)\n",
        "print(\"TensorFlow Hub version:\", hub.__version__)"
      ]
    },
    {
      "cell_type": "markdown",
      "id": "9ad5ebb2",
      "metadata": {
        "id": "9ad5ebb2"
      },
      "source": [
        "\n",
        "### Load the VOC2007 dataset\n",
        "\n",
        "We will use the VOC2007 dataset, which contains images with annotations for object detection. For demonstration purposes, we will load a small subset of the dataset using TensorFlow Datasets.\n",
        "\n",
        "- VOC2007 is a dataset for object detection, segmentation, and image classification.\n",
        "- We define a function load_data to load the COCO dataset.\n",
        "- tfds.load is a function that downloads and prepares the dataset.\n",
        "- We use only 1% of the training data to keep the demonstration manageable.\n",
        "- shuffle_files=True ensures that we get a random sample of the dataset.\n",
        "- with_info=True returns additional information about the dataset, which we'll use later.\n",
        "\n",
        "- The PASCAL VOC2007 (Visual Object Classes) dataset is a widely used benchmark dataset for object recognition tasks in computer vision. It comprises a collection of images annotated with bounding boxes and class labels for objects belonging to 20 different categories.\n",
        "\n",
        "Key characteristics of the VOC2007 dataset:\n",
        "\n",
        "- Purpose: Primarily used for training and evaluating object detection algorithms, but also applicable to other tasks like image classification and semantic segmentation.\n",
        "- Object Categories: Includes a diverse set of 20 object classes, ranging from people and animals to vehicles and indoor items.\n",
        "- Data Format: The dataset provides images along with corresponding annotation files containing bounding box coordinates and class labels for each object in the image.\n",
        "- Image Variety: Features a wide range of images captured in diverse real-world scenarios, offering realistic challenges for object recognition models.\n",
        "- Benchmark: Serves as a standard benchmark for comparing the performance of different object detection algorithms, fostering progress in the field.\n",
        "\n",
        "Common use cases of the VOC2007 dataset:\n",
        "- Training: Used as training data to teach object detection models to identify and localize objects within images.\n",
        "- Evaluation: Employed to evaluate the performance of trained models by comparing their predictions against the ground truth annotations.\n",
        "- Research: Utilized in research to develop and test new object detection algorithms and techniques."
      ]
    },
    {
      "cell_type": "code",
      "execution_count": 3,
      "id": "ca53d8ae",
      "metadata": {
        "id": "ca53d8ae"
      },
      "outputs": [
        {
          "name": "stdout",
          "output_type": "stream",
          "text": [
            "\u001b[1mDownloading and preparing dataset Unknown size (download: Unknown size, generated: Unknown size, total: Unknown size) to C:\\Users\\hisha\\tensorflow_datasets\\voc\\2007\\4.0.0...\u001b[0m\n"
          ]
        },
        {
          "data": {
            "application/vnd.jupyter.widget-view+json": {
              "model_id": "932cd53805c24a71bb358b1b98e2c91d",
              "version_major": 2,
              "version_minor": 0
            },
            "text/plain": [
              "Dl Completed...: 0 url [00:00, ? url/s]"
            ]
          },
          "metadata": {},
          "output_type": "display_data"
        },
        {
          "data": {
            "application/vnd.jupyter.widget-view+json": {
              "model_id": "2f6773bb7853483baaf75984f010a52d",
              "version_major": 2,
              "version_minor": 0
            },
            "text/plain": [
              "Dl Size...: 0 MiB [00:00, ? MiB/s]"
            ]
          },
          "metadata": {},
          "output_type": "display_data"
        },
        {
          "data": {
            "application/vnd.jupyter.widget-view+json": {
              "model_id": "14a13cc7514d4de4b75c1483b755e844",
              "version_major": 2,
              "version_minor": 0
            },
            "text/plain": [
              "Extraction completed...: 0 file [00:00, ? file/s]"
            ]
          },
          "metadata": {},
          "output_type": "display_data"
        },
        {
          "data": {
            "application/vnd.jupyter.widget-view+json": {
              "model_id": "974351ab6419406b8584b81ce81c2114",
              "version_major": 2,
              "version_minor": 0
            },
            "text/plain": [
              "Generating splits...:   0%|          | 0/3 [00:00<?, ? splits/s]"
            ]
          },
          "metadata": {},
          "output_type": "display_data"
        },
        {
          "data": {
            "application/vnd.jupyter.widget-view+json": {
              "model_id": "3ae8b894afb0448bac83fdc3ef50e3b2",
              "version_major": 2,
              "version_minor": 0
            },
            "text/plain": [
              "Generating test examples...: 0 examples [00:00, ? examples/s]"
            ]
          },
          "metadata": {},
          "output_type": "display_data"
        },
        {
          "data": {
            "application/vnd.jupyter.widget-view+json": {
              "model_id": "ab8f074d27ea4d6ca026be13f0ea11a6",
              "version_major": 2,
              "version_minor": 0
            },
            "text/plain": [
              "Shuffling C:\\Users\\hisha\\tensorflow_datasets\\voc\\2007\\incomplete.1DR5A7_4.0.0\\voc-test.tfrecord*...:   0%|    …"
            ]
          },
          "metadata": {},
          "output_type": "display_data"
        },
        {
          "data": {
            "application/vnd.jupyter.widget-view+json": {
              "model_id": "207f5ce68f8b4d1eb4dcc980acb84f01",
              "version_major": 2,
              "version_minor": 0
            },
            "text/plain": [
              "Generating train examples...: 0 examples [00:00, ? examples/s]"
            ]
          },
          "metadata": {},
          "output_type": "display_data"
        },
        {
          "data": {
            "application/vnd.jupyter.widget-view+json": {
              "model_id": "796cea4f3d7346b8bb3b7bd4458e97fd",
              "version_major": 2,
              "version_minor": 0
            },
            "text/plain": [
              "Shuffling C:\\Users\\hisha\\tensorflow_datasets\\voc\\2007\\incomplete.1DR5A7_4.0.0\\voc-train.tfrecord*...:   0%|   …"
            ]
          },
          "metadata": {},
          "output_type": "display_data"
        },
        {
          "data": {
            "application/vnd.jupyter.widget-view+json": {
              "model_id": "39add718674a46b1b7c2af3bd27b1347",
              "version_major": 2,
              "version_minor": 0
            },
            "text/plain": [
              "Generating validation examples...: 0 examples [00:00, ? examples/s]"
            ]
          },
          "metadata": {},
          "output_type": "display_data"
        },
        {
          "data": {
            "application/vnd.jupyter.widget-view+json": {
              "model_id": "1cd5f37ddcbd428d9f51c9634775bf5d",
              "version_major": 2,
              "version_minor": 0
            },
            "text/plain": [
              "Shuffling C:\\Users\\hisha\\tensorflow_datasets\\voc\\2007\\incomplete.1DR5A7_4.0.0\\voc-validation.tfrecord*...:   0…"
            ]
          },
          "metadata": {},
          "output_type": "display_data"
        },
        {
          "name": "stdout",
          "output_type": "stream",
          "text": [
            "\u001b[1mDataset voc downloaded and prepared to C:\\Users\\hisha\\tensorflow_datasets\\voc\\2007\\4.0.0. Subsequent calls will reuse this data.\u001b[0m\n",
            "Class names: ['aeroplane', 'bicycle', 'bird', 'boat', 'bottle', 'bus', 'car', 'cat', 'chair', 'cow', 'diningtable', 'dog', 'horse', 'motorbike', 'person', 'pottedplant', 'sheep', 'sofa', 'train', 'tvmonitor']\n"
          ]
        }
      ],
      "source": [
        "import tensorflow_datasets as tfds\n",
        "import matplotlib.pyplot as plt\n",
        "\n",
        "# Load a smaller dataset\n",
        "def load_data(split='train'):\n",
        "    dataset, info = tfds.load('voc/2007', split=split, shuffle_files=True, with_info=True)\n",
        "    return dataset, info\n",
        "\n",
        "# Load the train dataset and extract info\n",
        "train_dataset, train_info = load_data('train[:10%]')\n",
        "\n",
        "# Load the validation dataset\n",
        "validation_dataset, validation_info = load_data('validation[:10%]')\n",
        "\n",
        "# Get class names\n",
        "class_names = train_info.features[\"objects\"][\"label\"].names  # Changed from ds_info to train_info\n",
        "print(\"Class names:\", class_names)\n",
        "\n"
      ]
    },
    {
      "cell_type": "code",
      "execution_count": null,
      "id": "394a8233",
      "metadata": {
        "id": "394a8233"
      },
      "outputs": [],
      "source": [
        "def display_examples(dataset, n=3):  # Display 'n' examples by default\n",
        "    for example in dataset.take(n):\n",
        "        image = example[\"image\"]\n",
        "        plt.figure(figsize=(5, 5))\n",
        "        plt.imshow(image)\n",
        "        plt.title(\"Image with Ground Truth Bounding Boxes\")\n",
        "\n",
        "        # Draw ground truth boxes\n",
        "        for box in example[\"objects\"][\"bbox\"]:\n",
        "            ymin, xmin, ymax, xmax = box\n",
        "            rect = patches.Rectangle((xmin * image.shape[1], ymin * image.shape[0]),\n",
        "                                    (xmax - xmin) * image.shape[1], (ymax - ymin) * image.shape[0],\n",
        "                                    linewidth=1, edgecolor='g', facecolor='none')\n",
        "            plt.gca().add_patch(rect)\n",
        "\n",
        "        plt.show()\n",
        "\n",
        "display_examples(train_dataset)"
      ]
    },
    {
      "cell_type": "markdown",
      "id": "0cd8c93b",
      "metadata": {
        "id": "0cd8c93b"
      },
      "source": [
        "### Find Images with Specific Classes\n",
        "\n",
        "We got  the list of all class names in the VOC2007 dataset and select images containing our target classes (e.g., person, car, bird).\n",
        "\n",
        "- `class_names` provides the list of class names.\n",
        "- `target_class_ids` contains the IDs of the classes we are interested in.\n",
        "- `find_images_with_classes` is a function to find images containing our target classes.\n"
      ]
    },
    {
      "cell_type": "markdown",
      "id": "ea1b5f4e",
      "metadata": {
        "id": "ea1b5f4e"
      },
      "source": [
        "### When To Load the model\n",
        "Loading the model early (right after dataset loading):\n",
        "\n",
        "Pros: Model is immediately available; clear separation of setup and processing.\n",
        "Cons: Potentially inefficient if data prep is extensive or fails.\n",
        "\n",
        "\n",
        "Loading the model after data preparation:\n",
        "\n",
        "Pros: More efficient resource use; avoids unnecessary loading if data prep fails.\n",
        "Cons: Model isn't available for any data prep steps that might need it.\n",
        "\n",
        "\n",
        "In our specific case, loading the model after data preparation is slightly better because:\n",
        "\n",
        "Our data prep doesn't need the model.\n",
        "It's more resource-efficient.\n",
        "It follows a logical flow: prepare data, load tools, process data.\n",
        "It avoids unnecessary model loading if data prep fails.\n",
        "\n",
        "However, the difference is minimal in this small-scale example. For beginners, loading major components upfront can sometimes be clearer and easier to follow.\n",
        "As a best practice, aim to load your model as close as possible to where you'll use it, ensuring all necessary data and resources are ready first."
      ]
    },
    {
      "cell_type": "code",
      "execution_count": null,
      "id": "b12b49aa",
      "metadata": {
        "id": "b12b49aa"
      },
      "outputs": [],
      "source": [
        "#Load a pre-trained object detection model\n",
        "detector = hub.load(\"https://tfhub.dev/tensorflow/ssd_mobilenet_v2/2\")"
      ]
    },
    {
      "cell_type": "markdown",
      "id": "d3ae757a",
      "metadata": {
        "id": "d3ae757a"
      },
      "source": [
        "Let's break this down:\n",
        "\n",
        "- 1. hub.load(): This function is from TensorFlow Hub (tensorflow_hub). It downloads and loads models from the TensorFlow Hub repository.\n",
        "- 2. \"https://tfhub.dev/tensorflow/ssd_mobilenet_v2/2\": This is the URL of the specific model we're loading. It's an SSD (Single Shot Detector) MobileNet V2 model, which is efficient for object detection tasks.\n",
        "- 3. Detector: The loaded model is assigned to this variable. It becomes a callable object that you can use for object detection.\n",
        "\n",
        "Advantages of this approach:\n",
        "\n",
        "Concise and readable\n",
        "Directly loads the model without additional wrapper functions\n",
        "TensorFlow Hub handles caching, so subsequent loads will be faster"
      ]
    },
    {
      "cell_type": "markdown",
      "id": "86360a19",
      "metadata": {
        "id": "86360a19"
      },
      "source": [
        "### Display Detected Objects with Bounding Boxes\n",
        "\n",
        "We will use the pre-trained model to detect objects in our selected images and display them with bounding boxes.\n",
        "\n",
        "- `detector` is the pre-trained object detection model.\n",
        "- `detect_objects` is a function that uses the model to detect objects in an image.\n",
        "- `display_detections` is a function to display the detected objects with bounding boxes.\n"
      ]
    },
    {
      "cell_type": "markdown",
      "id": "396c0a53",
      "metadata": {
        "id": "396c0a53"
      },
      "source": [
        "\n",
        "### Helper Function to Display Bounding Boxes on Images\n",
        "\n",
        "The `display_image_with_boxes` function takes an image, bounding boxes, and class names, then displays the image with bounding boxes drawn around detected objects.\n",
        "- run_detector: This function prepares an image and runs it through our object detection model.\n",
        "- plot_detections: This function visualizes the detected objects by drawing bounding boxes and labels on the image.\n",
        "\n",
        " process_uploaded_image which processes an uploaded image for object detection. The function takes the raw image data as input, preprocesses the image, runs the object detection model, and then plots and prints the detected objects."
      ]
    },
    {
      "cell_type": "code",
      "execution_count": null,
      "id": "d0fc8152",
      "metadata": {
        "id": "d0fc8152"
      },
      "outputs": [],
      "source": [
        "# Run Detector and Visualize\n",
        "def run_detector_and_visualize(example):\n",
        "    image = example[\"image\"]\n",
        "    ground_truth_boxes = example[\"objects\"][\"bbox\"]\n",
        "\n",
        "    # Preprocess and run detection\n",
        "    converted_img = tf.image.convert_image_dtype(image, tf.uint8)[tf.newaxis, ...]\n",
        "    result = detector(converted_img)\n",
        "    result = {key: value.numpy() for key, value in result.items()}\n",
        "\n",
        "    # Visualize results (with ground truth for comparison)\n",
        "    plt.figure(figsize=(10, 7))\n",
        "    plt.imshow(image)\n",
        "\n",
        "    # Ground truth boxes (VOC format is [xmin, ymin, xmax, ymax])\n",
        "    for box in ground_truth_boxes:\n",
        "        ymin, xmin, ymax, xmax = box\n",
        "        rect = patches.Rectangle((xmin * image.shape[1], ymin * image.shape[0]),\n",
        "                                (xmax - xmin) * image.shape[1], (ymax - ymin) * image.shape[0],\n",
        "                                linewidth=1, edgecolor='g', facecolor='none', label='Ground Truth')\n",
        "        plt.gca().add_patch(rect)\n",
        "\n",
        "    # Predicted boxes\n",
        "    for i, score in enumerate(result['detection_scores'][0]):\n",
        "        if score > 0.5:  # Confidence threshold\n",
        "            ymin, xmin, ymax, xmax = result['detection_boxes'][0][i]\n",
        "            class_id = int(result['detection_classes'][0][i])\n",
        "\n",
        "            # Handle invalid class IDs (classes outside the VOC dataset)\n",
        "            if class_id < len(class_names):\n",
        "                label = class_names[class_id]\n",
        "\n",
        "            rect = patches.Rectangle((xmin * image.shape[1], ymin * image.shape[0]),\n",
        "                                    (xmax - xmin) * image.shape[1], (ymax - ymin) * image.shape[0],\n",
        "                                    linewidth=1, edgecolor='r', facecolor='none', label='Predicted')\n",
        "            plt.gca().add_patch(rect)\n",
        "\n",
        "            # Moved plt.text to the correct loop for the predicted box\n",
        "            plt.text(xmin * image.shape[1], ymin * image.shape[0] - 5, f'{label}: {score:.2f}', color='white', backgroundcolor='r')\n",
        "\n",
        "    plt.legend()\n",
        "    plt.show()\n",
        "\n",
        "\n",
        "\n",
        "\n",
        "\n"
      ]
    },
    {
      "cell_type": "markdown",
      "id": "565b6ed3",
      "metadata": {
        "id": "565b6ed3"
      },
      "source": [
        "###   Process and Display Images with Detections\n",
        "The `detect_and_display` function runs object detection on an image and displays the results, as you saw above. The function converts the image to the appropriate format, runs the detector, and then uses the helper function to display the results.\n",
        "\n",
        " process_uploaded_image which processes an uploaded image for object detection. The function takes the raw image data as input, preprocesses the image, runs the object detection model, and then plots and prints the detected objects."
      ]
    },
    {
      "cell_type": "code",
      "execution_count": null,
      "id": "6e937b19",
      "metadata": {
        "collapsed": true,
        "id": "6e937b19"
      },
      "outputs": [],
      "source": [
        "# take a few examples from the training set\n",
        "for example in train_dataset.take(2):  # Process 2 images\n",
        "    run_detector_and_visualize(example)\n",
        "\n"
      ]
    },
    {
      "cell_type": "markdown",
      "id": "wXOchOCE9c5n",
      "metadata": {
        "id": "wXOchOCE9c5n"
      },
      "source": [
        "#### Your Turn\n",
        "Process a few images from the dataset\n",
        "print(\"\\nProcessing sample images from the dataset:\") for i, example in enumerate(train_dataset.take(3)): print(f\"\\nSample image {i+1}\") image = example['image'].numpy() detections = run_detector(detector, image) plot_detections(image, detections, class_names)"
      ]
    },
    {
      "cell_type": "markdown",
      "id": "cafd587f",
      "metadata": {
        "id": "cafd587f"
      },
      "source": [
        "## Mode Evaluation\n",
        "###  Define the Evaluation Function\n",
        "\n",
        " The function called evaluate_model_performance which evaluates the performance of our object detection model on a dataset. The function takes three arguments: the dataset to evaluate on, the object detection model, and the number of images to use for evaluation. It calculates and prints the accuracy of the model based on the detections.   "
      ]
    },
    {
      "cell_type": "code",
      "execution_count": null,
      "id": "24dc1ecf",
      "metadata": {
        "id": "24dc1ecf"
      },
      "outputs": [],
      "source": [
        "#Evaluate Model Performance\n",
        "def evaluate_model_performance(dataset, detector, iou_threshold=0.5, num_samples=100):\n",
        "    true_positives = 0\n",
        "    false_positives = 0\n",
        "    false_negatives = 0\n",
        "\n",
        "    for example in dataset.take(num_samples):\n",
        "        image = example[\"image\"].numpy()\n",
        "        gt_boxes = example[\"objects\"][\"bbox\"].numpy()\n",
        "        gt_labels = example[\"objects\"][\"label\"].numpy()\n",
        "\n",
        "        # Preprocess and run detection (same as before)\n",
        "        converted_img = tf.image.convert_image_dtype(image, tf.uint8)[tf.newaxis, ...]\n",
        "        result = detector(converted_img)\n",
        "        result = {key: value.numpy() for key, value in result.items()}\n",
        "        pred_boxes = result['detection_boxes'][0]\n",
        "        pred_scores = result['detection_scores'][0]\n",
        "        pred_labels = result['detection_classes'][0].astype(int)\n",
        "\n",
        "        # Iterate over predicted boxes\n",
        "        for i, score in enumerate(pred_scores):\n",
        "            if score < 0.5:  # Confidence threshold\n",
        "                continue\n",
        "\n",
        "            # Convert box coordinates to [ymin, xmin, ymax, xmax]\n",
        "            pred_box = pred_boxes[i]\n",
        "            pred_box = [pred_box[1], pred_box[0], pred_box[3], pred_box[2]]\n",
        "\n",
        "            # Find matching ground truth box (if any) based on IoU\n",
        "            best_iou = 0\n",
        "            for j, gt_box in enumerate(gt_boxes):\n",
        "                iou = calculate_iou(gt_box, pred_box)\n",
        "                if iou > best_iou:\n",
        "                    best_iou = iou\n",
        "                    gt_index = j\n",
        "\n",
        "            # If IoU exceeds threshold, check class match\n",
        "            if best_iou > iou_threshold:\n",
        "                if pred_labels[i] == gt_labels[gt_index]:\n",
        "                    true_positives += 1\n",
        "                else:\n",
        "                    false_positives += 1\n",
        "            else:\n",
        "                false_positives += 1\n",
        "\n",
        "        # Count false negatives (missed ground truth boxes)\n",
        "        false_negatives += len(gt_boxes) - true_positives\n",
        "\n",
        "    precision = true_positives / (true_positives + false_positives) if true_positives + false_positives > 0 else 0\n",
        "    recall = true_positives / (true_positives + false_negatives) if true_positives + false_negatives > 0 else 0\n",
        "\n",
        "    print(f\"Model Performance (IoU Threshold = {iou_threshold:.2f}):\")\n",
        "    print(f\"True Positives: {true_positives}\")\n",
        "    print(f\"False Positives: {false_positives}\")\n",
        "    print(f\"False Negatives: {false_negatives}\")\n",
        "    print(f\"Precision: {precision:.2f}\")\n",
        "    print(f\"Recall: {recall:.2f}\")\n",
        "\n",
        "# (You'll need to implement a 'calculate_iou' function)\n",
        "def calculate_iou(box1, box2):\n",
        "    \"\"\"Calculates the Intersection over Union (IoU) between two bounding boxes.\n",
        "\n",
        "    Args:\n",
        "        box1 (list): Coordinates of the first box in the format [ymin, xmin, ymax, xmax].\n",
        "        box2 (list): Coordinates of the second box in the same format.\n",
        "\n",
        "    Returns:\n",
        "        float: The IoU value (between 0 and 1).\n",
        "    \"\"\"\n",
        "\n",
        "    # 1. Calculate coordinates of the intersection rectangle\n",
        "    y1 = max(box1[0], box2[0])\n",
        "    x1 = max(box1[1], box2[1])\n",
        "    y2 = min(box1[2], box2[2])\n",
        "    x2 = min(box1[3], box2[3])\n",
        "\n",
        "    # 2. Calculate areas of the intersection and the union\n",
        "    intersection_area = max(0, y2 - y1) * max(0, x2 - x1)\n",
        "    box1_area = (box1[2] - box1[0]) * (box1[3] - box1[1])\n",
        "    box2_area = (box2[2] - box2[0]) * (box2[3] - box2[1])\n",
        "    union_area = box1_area + box2_area - intersection_area\n",
        "\n",
        "    # 3. Calculate IoU\n",
        "    if union_area == 0:\n",
        "        return 0  # Avoid division by zero\n",
        "    else:\n",
        "        iou = intersection_area / union_area\n",
        "        return iou\n",
        "\n",
        "# Evaluate model performance\n",
        "print(\"Evaluating model performance...\")\n",
        "evaluate_model_performance(validation_dataset, detector)  # Use test data for evaluation\n"
      ]
    },
    {
      "cell_type": "markdown",
      "id": "d8786f0d",
      "metadata": {
        "id": "d8786f0d"
      },
      "source": [
        "### Object Detection Evaluation Core Concepts\n",
        "\n",
        "* Object detection models need to be evaluated on two fronts:\n",
        "\n",
        "- Classification Accuracy: Did the model correctly identify the object's class (e.g., person, car, bird)?\n",
        "- Localization Accuracy: Did the model accurately draw a bounding box around the object?\n",
        "\n",
        " Our exercise  focuses on assessing localization accuracy using the Intersection over Union (IoU) metric.\n",
        "\n",
        "* Understanding IoU (Intersection over Union)\n",
        "\n",
        "IoU measures how much two bounding boxes overlap.\n",
        "\n",
        "- A perfect match (predicted box perfectly matches the ground truth box) has an IoU of 1.\n",
        "- No overlap has an IoU of 0.\n",
        "\n",
        "The iou_threshold in the code (default 0.5) means a predicted box is considered a \"true positive\" only if its IoU with a ground truth box is 0.5 or higher.\n",
        "\n",
        "* Output Interpretation:\n",
        "\n",
        "The function will print the following metrics:\n",
        "\n",
        "- True Positives (TP): The number of detected objects where both the class label and bounding box are correct (IoU above the threshold).\n",
        "- False Positives (FP): The number of detected objects that are either misclassified or have an IoU below the threshold.\n",
        "- False Negatives (FN): The number of ground truth objects that the model missed entirely.\n",
        "- Precision: The proportion of positive detections that were actually correct (TP / (TP + FP)). A high precision means the model makes few false alarms.\n",
        "- Recall: The proportion of actual positive objects that the model successfully detected (TP / (TP + FN)). A high recall means the model misses few objects.\n",
        "\n",
        "Example Results:\n",
        "Let's say the output is:\n",
        "\n",
        "Model Performance (IoU Threshold = 0.50):\n",
        "True Positives: 75\n",
        "False Positives: 20\n",
        "False Negatives: 15\n",
        "Precision: 0.79\n",
        "Recall: 0.83\n",
        "Interpretation:\n",
        "\n",
        "- The model correctly detected and localized 75 objects.\n",
        "- It made 20 incorrect detections (wrong class or poor box placement).\n",
        "- It missed 15 objects that were actually present in the images.\n",
        "- Precision is 0.79, meaning 79% of the model's positive detections were accurate.\n",
        "- Recall is 0.83, meaning the model found 83% of the actual objects in the images.\n",
        "\n",
        "* Key Takeaways:\n",
        "- Precision vs. Recall: There's often a trade-off between these two. Increasing the confidence threshold (e.g., to 0.6) might improve    precision (fewer false alarms) but likely lower recall (more missed objects).\n",
        "- IoU Threshold: The choice of IoU threshold significantly impacts the results. A higher threshold makes the evaluation stricter, potentially lowering both precision and recall.\n",
        "- Limitations: This evaluation only covers a limited number of samples (num_samples). For a more comprehensive assessment, you'd ideally use a larger and more diverse evaluation set.\n",
        "- Single Metric: Precision and recall alone don't tell the whole story. Consider using other metrics like F1 score (harmonic mean of precision and recall) for a more balanced view of performance.\n",
        "\n",
        "\n",
        "\n",
        "\n",
        "\n",
        "\n"
      ]
    },
    {
      "cell_type": "markdown",
      "id": "9be74ea3",
      "metadata": {
        "id": "9be74ea3"
      },
      "source": [
        "### Upload your Image\n",
        "This final block allows you to input your own image URL for object detection, making the exercise interactive.\n"
      ]
    },
    {
      "cell_type": "markdown",
      "id": "06664892",
      "metadata": {
        "id": "06664892"
      },
      "source": [
        " ### Instructions  to Upload Your Own Images"
      ]
    },
    {
      "cell_type": "code",
      "execution_count": null,
      "id": "oMokp0C_7NJb",
      "metadata": {
        "id": "oMokp0C_7NJb"
      },
      "outputs": [],
      "source": [
        "# Function to process uploaded images (for Google Colab)\n",
        "def process_uploaded_image(image_data):\n",
        "    \"\"\"Processes and displays detections for an uploaded image.\"\"\"\n",
        "    image = Image.open(BytesIO(image_data))\n",
        "    image_np = np.array(image)  # Convert PIL Image to NumPy array\n",
        "    detections = run_detector(detector, image_np)\n",
        "    plot_detections_with_heatmap(image_np, detections, class_names)\n",
        "\n",
        "    # Print detected objects (example)\n",
        "    print(\"Detected objects:\")\n",
        "    for i, score in enumerate(detections['detection_scores'][0]):\n",
        "        if score > 0.5:  # Confidence threshold\n",
        "            class_id = int(detections['detection_classes'][0][i])\n",
        "            label = class_names[class_id] if class_id < len(class_names) else \"UNKNOWN\"\n",
        "            print(f\"- {label} with confidence {score:.2f}\")\n",
        "\n",
        "# Instructions for image uploading (if in Google Colab)\n",
        "print(\"\\nTo upload your own image for object detection:\")\n",
        "print(\"1. If using Google Colab, use:\")\n",
        "print(\"   from google.colab import files\")\n",
        "print(\"   uploaded = files.upload()\")\n",
        "print(\"   image_data = next(iter(uploaded.values()))\")\n",
        "print(\"2. Then run:\")\n",
        "print(\"   process_uploaded_image(image_data)\")\n"
      ]
    },
    {
      "cell_type": "markdown",
      "id": "b0582fe7",
      "metadata": {
        "id": "b0582fe7"
      },
      "source": [
        "### Conclusion\n",
        "This exercise introduces you to object detection while keeping computational requirements relatively low. It uses a pre-trained model, so no training is required, making it suitable for systems with limited resources.\n",
        "\n",
        "Using pre-trained models for complex tasks\n",
        "The basics of object detection (bounding boxes, class labels, confidence scores)\n",
        "Visualizing detection results\n",
        "Simple analysis of detection outputs\n",
        "\n",
        "The exercise is also interactive, allowing students to try object detection on their own chosen images. Copy"
      ]
    },
    {
      "cell_type": "markdown",
      "id": "faf0aa9f",
      "metadata": {
        "id": "faf0aa9f"
      },
      "source": [
        "## Questions for Reflection and Analysis:\n",
        "1. **Conceptual Understanding:**\n",
        "- What is the main difference between image classification and object detection? How is this difference evident in the output of this exercise?\n",
        "- Explain why we chose the SSD MobileNet V2 model for this task. What are its advantages and limitations, especially in the context of limited computational resources?\n",
        "\n",
        "2. **Code Interpretation:**\n",
        "- Describe the role of the find_images_with_classes function. Why is it useful when working with a large dataset like COCO?\n",
        "- In the plot_detections function, how does the threshold value (threshold=0.5) impact the number of objects displayed?\n",
        "- Explain how the heatmap visualization helps you understand the model's confidence in its detections.\n",
        "\n",
        "3. **Observing Results and Limitations:**\n",
        "- Run the exercise multiple times. Which types of objects does the model tend to detect more accurately? Which ones are more challenging? Can you explain why?\n",
        "- Observe the bounding boxes. Are there any instances where the boxes are inaccurate or miss the object entirely? What factors in the images might be contributing to these errors?\n",
        "- How would you expect the accuracy of the model to change if we had used the entire Pascal VOC 2007 dataset instead of a small subset? Why?\n",
        "\n",
        "4. **Critical Thinking:**\n",
        "- How could you modify the code to detect a specific set of objects, like only animals or only vehicles?\n",
        "- If you wanted to train your own object detection model, what steps would you need to take? What are some challenges you might encounter?\n",
        "- Given the limitations of this model, in what real-world scenarios might it still be useful for object detection?\n",
        "\n",
        "5. **Going Further (Optional):** (Bonus points)\n",
        "- Research other object detection models available in TensorFlow Hub. Compare and contrast them with SSD MobileNet V2 in terms of accuracy, speed, and resource requirements.\n",
        "- Try running a few images through a more powerful object detection model online (if available). Compare the results to the output of this exercise. What differences do you notice?\n",
        "- Important: Remember, the goal here isn't perfect accuracy. It's to understand the core concepts of object detection, the limitations of working with restricted resources, and how to critically analyze the results.\n",
        "\n"
      ]
    },
    {
      "cell_type": "markdown",
      "id": "be8541ac",
      "metadata": {},
      "source": [
        "## Reflection and Analysis\n",
        "\n",
        "### 1. **Conceptual Understanding**\n",
        "\n",
        "   - **Image Classification vs. Object Detection**:  \n",
        "     In image classification, the model assigns a single label to the entire image, capturing the dominant object or scene. Object detection, however, dives deeper—detecting and labeling multiple objects within a single image, each with distinct bounding boxes and confidence scores. In this exercise, the model not only identifies objects but also spatially locates them, demonstrating its ability to understand and analyze complex, multi-object scenes.\n",
        "\n",
        "   - **Choosing SSD MobileNet V2**:  \n",
        "     SSD MobileNet V2 combines speed and efficiency, designed to work well on resource-limited devices. Its lightweight architecture uses depthwise separable convolutions to retain essential features without heavy computation. While this makes it ideal for real-time applications (e.g., mobile devices), the trade-off is a slight reduction in accuracy, especially for small or densely-packed objects, where more complex models might perform better.\n",
        "\n",
        "### 2. **Code Interpretation**\n",
        "\n",
        "   - **find_images_with_classes Function**:  \n",
        "     This function acts as a filter, focusing the model on images containing specific classes within a larger dataset. With large datasets like COCO, this selective approach helps the model train or evaluate on relevant images, saving resources and enhancing model performance for targeted classes.\n",
        "\n",
        "   - **Threshold in plot_detections**:  \n",
        "     The threshold (e.g., 0.5) controls the minimum confidence required for displaying a detection. Setting this at 0.5 shows only objects the model is at least 50% confident in. Lower thresholds increase detections but risk more false positives, while higher thresholds reduce detections but can miss subtle objects.\n",
        "\n",
        "   - **Heatmap Visualization**:  \n",
        "     The heatmap provides a visual “confidence map,” highlighting areas the model believes strongly contain objects. This visualization helps interpret detection quality, showing whether the model focuses on the correct regions, aiding adjustments to improve accuracy.\n",
        "\n",
        "### 3. **Observing Results and Limitations**\n",
        "\n",
        "   - **Types of Objects Detected**:  \n",
        "     Repeated trials reveal that common or visually distinct objects like cars and people are more accurately detected due to extensive representation in training. Smaller or less distinct objects may be harder to detect, as the model struggles with limited visual cues and fewer training examples.\n",
        "\n",
        "   - **Bounding Box Precision**:  \n",
        "     Precision issues arise when bounding boxes are slightly misaligned or miss objects. Factors include occlusion, overlapping objects, and varying perspectives, which challenge simpler models like SSD MobileNet V2 in complex scenes.\n",
        "\n",
        "   - **Using Full Dataset for Accuracy**:  \n",
        "     Training on the entire Pascal VOC 2007 dataset would likely improve accuracy by providing more comprehensive examples. This variety helps the model generalize better, especially for rarer classes, enhancing robustness across different scenarios.\n",
        "\n",
        "### 4. **Critical Thinking**\n",
        "\n",
        "   - **Customizing Object Detection**:  \n",
        "     To detect specific categories (e.g., only animals or vehicles), you can modify the detection pipeline to filter outputs by class. This customization enables the model to focus on specific applications, like monitoring wildlife in conservation efforts.\n",
        "\n",
        "   - **Steps for Training a Custom Model**:  \n",
        "     Training from scratch requires labeled data, a suitable model, and substantial resources. Key steps include dataset collection, model architecture selection, data preprocessing, and iterative training. Challenges include obtaining quality labeled data, optimizing model parameters, and ensuring generalization.\n",
        "\n",
        "   - **Real-World Applications of SSD MobileNet V2**:  \n",
        "     SSD MobileNet V2 is perfect for real-time applications with limited resources. For instance, it could power security cameras for intruder detection, retail inventory monitoring, or traffic detection systems. These applications benefit from the model’s speed and efficiency, even if it sacrifices some precision.\n",
        "\n",
        "### 5. **Going Further (Optional)**\n",
        "\n",
        "   - **Model Comparisons**:  \n",
        "     Models like YOLO and Faster R-CNN offer different trade-offs. YOLO excels in speed for real-time use, while Faster R-CNN provides higher accuracy at the cost of speed. EfficientDet, which adjusts model depth dynamically, is versatile for both mobile and high-performance setups, balancing efficiency and precision based on available resources.\n",
        "\n",
        "   - **Testing More Powerful Models**:  \n",
        "     Trying more robust models (e.g., Faster R-CNN) online highlights differences in detection quality and bounding box accuracy. These models handle complex scenes better, revealing the trade-offs between lightweight models like SSD MobileNet V2 and their high-precision counterparts.\n"
      ]
    }
  ],
  "metadata": {
    "accelerator": "GPU",
    "colab": {
      "gpuType": "L4",
      "machine_shape": "hm",
      "provenance": []
    },
    "kernelspec": {
      "display_name": "Python 3",
      "name": "python3"
    },
    "language_info": {
      "codemirror_mode": {
        "name": "ipython",
        "version": 3
      },
      "file_extension": ".py",
      "mimetype": "text/x-python",
      "name": "python",
      "nbconvert_exporter": "python",
      "pygments_lexer": "ipython3",
      "version": "3.11.9"
    }
  },
  "nbformat": 4,
  "nbformat_minor": 5
}
